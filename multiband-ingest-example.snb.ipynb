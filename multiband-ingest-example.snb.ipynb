{
  "metadata" : {
    "id" : "623a6001-d8ea-4e84-8998-b5283f3db181",
    "name" : "multiband-ingest-example",
    "user_save_timestamp" : "1969-12-31T20:00:00.000Z",
    "auto_save_timestamp" : "1969-12-31T20:00:00.000Z",
    "language_info" : {
      "name" : "scala",
      "file_extension" : "scala",
      "codemirror_mode" : "text/x-scala"
    },
    "trusted" : true,
    "sparkNotebook" : null,
    "customLocalRepo" : null,
    "customRepos" : [ "locationtech-releases % default % https://repo.locationtech.org/content/groups/releases", "locationtech-snapshots % default % https://repo.locationtech.org/content/groups/snapshots" ],
    "customDeps" : [ "org.locationtech.geotrellis %% geotrellis-spark % 2.0.0", "com.typesafe.akka %% akka-actor % 2.4.17", "com.typesafe.akka %% akka-http-core % 10.0.10", "com.typesafe.akka %% akka-http % 10.0.10", "com.typesafe.akka %% akka-http-spray-json % 10.0.10" ],
    "customImports" : null,
    "customArgs" : null,
    "customSparkConf" : null,
    "customVars" : null
  },
  "cells" : [ {
    "metadata" : {
      "trusted" : true,
      "input_collapsed" : false,
      "collapsed" : false,
      "id" : "05304BD1DF08435C8492464D5F3D3DF3"
    },
    "cell_type" : "code",
    "source" : [ "import geotrellis.proj4.WebMercator\n", "import geotrellis.spark._\n", "import geotrellis.spark.io._\n", "import geotrellis.spark.io.file._\n", "import geotrellis.spark.io.hadoop._\n", "import geotrellis.spark.io.index.ZCurveKeyIndexMethod\n", "import geotrellis.spark.ingest.MultibandIngest\n", "import geotrellis.spark.tiling.ZoomedLayoutScheme\n", "import geotrellis.vector.ProjectedExtent" ],
    "outputs" : [ ]
  }, {
    "metadata" : {
      "trusted" : true,
      "input_collapsed" : false,
      "collapsed" : false,
      "id" : "B51868856E3F48AD840043882F285E85"
    },
    "cell_type" : "code",
    "source" : [ "val sourcePath = \"file:///home/tbeatty/ramas-data/nbcommercial/40/2018-06-22-rgb.tif\"\n", "val sourceRdd = sc.hadoopMultibandGeoTiffRDD(sourcePath)" ],
    "outputs" : [ ]
  }, {
    "metadata" : {
      "trusted" : true,
      "input_collapsed" : false,
      "collapsed" : false,
      "id" : "D02E2F2CE27345C482ABC5692176779D"
    },
    "cell_type" : "code",
    "source" : [ "val catalogPath = \"/tmp/geotrellis-catalog\"\n", "\n", "val layerWriter = FileLayerWriter(catalogPath)\n", "val layerDeleter = FileLayerDeleter(catalogPath)" ],
    "outputs" : [ ]
  }, {
    "metadata" : {
      "trusted" : true,
      "input_collapsed" : false,
      "collapsed" : false,
      "id" : "9294B232EC2E47278DE83DA1B91F7361"
    },
    "cell_type" : "code",
    "source" : [ "val layerName = \"example\"\n", "val maxZoom = 16\n", "\n", "MultibandIngest[ProjectedExtent, SpatialKey](\n", "  sourceRdd,\n", "  WebMercator,\n", "  ZoomedLayoutScheme(WebMercator, 256),\n", "  pyramid = true,\n", "  maxZoom = Some(maxZoom)\n", ") { (rdd, zoom) =>\n", "  val layerId = LayerId(layerName, zoom)\n", "  if (layerWriter.attributeStore.layerExists(layerId)) {\n", "    println(s\"Removing existing layer $layerId\")\n", "    layerDeleter.delete(layerId)\n", "  }\n", "  println(s\"Writing $layerId\")\n", "  layerWriter.write(layerId, rdd, ZCurveKeyIndexMethod)\n", "}" ],
    "outputs" : [ ]
  } ],
  "nbformat" : 4
}